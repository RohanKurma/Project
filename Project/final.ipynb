{
 "cells": [
  {
   "cell_type": "code",
   "execution_count": 1,
   "id": "d7e06141",
   "metadata": {},
   "outputs": [],
   "source": [
    "import numpy as np\n",
    "import random"
   ]
  },
  {
   "cell_type": "code",
   "execution_count": 2,
   "id": "d54dff20",
   "metadata": {},
   "outputs": [],
   "source": [
    "# file_data = open(r\"C:\\Users\\rohan\\Downloads\\arr20.txt\", \"r\")\n",
    "# print(file_data.read())"
   ]
  },
  {
   "cell_type": "code",
   "execution_count": 3,
   "id": "ea37ad37",
   "metadata": {},
   "outputs": [],
   "source": [
    "def generate_inputfiles():\n",
    "    data_count = [20,100,1000,4000]\n",
    "    for count in data_count:\n",
    "        newline_flag = 0\n",
    "        file = open(\"input_files/arr\"+str(count)+\".txt\",\"w\")\n",
    "        for iter in range(0,count):\n",
    "            if newline_flag == 1:\n",
    "                file.write(\"\\n\")\n",
    "            num1 = random.randrange(0,99,1)\n",
    "            num2 = random.randrange(0,99,1)\n",
    "            num3 = random.randrange(0,99,1)\n",
    "            file.write(str(num1)+\" \"+str(num2)+\" \"+str(num3))\n",
    "            newline_flag = 1\n",
    "        file.close()"
   ]
  },
  {
   "cell_type": "code",
   "execution_count": 4,
   "id": "abb5ec56",
   "metadata": {},
   "outputs": [],
   "source": [
    "# # X = np.array([])\n",
    "# for x in file_data.read():\n",
    "#     print(x)\n",
    "    "
   ]
  },
  {
   "cell_type": "code",
   "execution_count": 5,
   "id": "693fd711",
   "metadata": {},
   "outputs": [],
   "source": [
    "def readfile_data(count):\n",
    "    file = open(\"input_files/arr\"+str(count)+\".txt\",\"r\")\n",
    "    datalist = []\n",
    "    for line in file:\n",
    "        num1, num2, num3 = line.split()\n",
    "        num1, num2, num3 = int(num1), int(num2), int(num3)\n",
    "        #datalist.append({\"num1\":num1,\"num2\":num2,\"num3\":num3,\"sum\":num1+num2+num3})\n",
    "        datalist.append([num1,num2,num3,num1+num2+num3])\n",
    "    return datalist"
   ]
  },
  {
   "cell_type": "code",
   "execution_count": 6,
   "id": "faddc0b7",
   "metadata": {},
   "outputs": [],
   "source": [
    "# print(X)"
   ]
  },
  {
   "cell_type": "code",
   "execution_count": 7,
   "id": "4ccf3294",
   "metadata": {},
   "outputs": [],
   "source": [
    "def save_data(count, datalist):\n",
    "    file = open(\"output_files/arrIS_O_\"+str(count)+\".txt\",\"w\")\n",
    "    newline_flag = 0\n",
    "    for data in datalist:\n",
    "        if newline_flag == 1:\n",
    "            file.write(\"\\n\")\n",
    "        num1, num2, num3, sum = str(data[0]),str(data[1]),str(data[2]),str(data[3])\n",
    "        file.write(num1+\" \"+num2+\" \"+num3+\" \"+sum)\n",
    "        newline_flag = 1\n",
    "    file.close()"
   ]
  },
  {
   "cell_type": "code",
   "execution_count": 8,
   "id": "9da9dfc1",
   "metadata": {},
   "outputs": [],
   "source": [
    "def insertionsort(datalist):\n",
    "    M = len(datalist)\n",
    "    N = 4\n",
    "    X1 = np.array(datalist)\n",
    "    for i in range(1,M):\n",
    "        temp1 = np.array(X1[i])\n",
    "    #     print(temp1[N-1])\n",
    "    #     print(temp1)\n",
    "        k = i-1\n",
    "        while (k>=0) and (X1[k,N-1] > temp1[N-1]):\n",
    "            X1[[k+1]] = X1[[k]]\n",
    "            k = k-1\n",
    "        X1[[k+1]] = temp1\n",
    "    datalist = np.array(X1)\n",
    "    return datalist"
   ]
  },
  {
   "cell_type": "code",
   "execution_count": 9,
   "id": "8aa5f0fc",
   "metadata": {},
   "outputs": [
    {
     "name": "stdout",
     "output_type": "stream",
     "text": [
      "[[ 30   2  39  71]\n",
      " [ 17   8  46  71]\n",
      " [ 60   5  31  96]\n",
      " [  7  71  26 104]\n",
      " [ 50  56   0 106]\n",
      " [  6  67  44 117]\n",
      " [ 19  73  26 118]\n",
      " [ 81   9  31 121]\n",
      " [ 55  67  13 135]\n",
      " [ 72  21  48 141]\n",
      " [ 29  51  65 145]\n",
      " [ 28  41  80 149]\n",
      " [ 47  32  72 151]\n",
      " [ 19  62  75 156]\n",
      " [ 75  42  40 157]\n",
      " [ 75  17  68 160]\n",
      " [ 92  37  50 179]\n",
      " [ 64  75  41 180]\n",
      " [ 96  80   5 181]\n",
      " [ 85  39  62 186]]\n"
     ]
    }
   ],
   "source": [
    "generate_inputfiles()\n",
    "\n",
    "datalist = readfile_data(20)\n",
    "\n",
    "datalist.sort(key=lambda row:(row[3]))\n",
    "datalist = insertionsort(datalist)\n",
    "print(datalist)\n",
    "\n",
    "save_data(20, datalist)"
   ]
  },
  {
   "cell_type": "code",
   "execution_count": null,
   "id": "cb962cb3",
   "metadata": {},
   "outputs": [],
   "source": []
  }
 ],
 "metadata": {
  "kernelspec": {
   "display_name": "Python 3 (ipykernel)",
   "language": "python",
   "name": "python3"
  },
  "language_info": {
   "codemirror_mode": {
    "name": "ipython",
    "version": 3
   },
   "file_extension": ".py",
   "mimetype": "text/x-python",
   "name": "python",
   "nbconvert_exporter": "python",
   "pygments_lexer": "ipython3",
   "version": "3.9.12"
  }
 },
 "nbformat": 4,
 "nbformat_minor": 5
}
